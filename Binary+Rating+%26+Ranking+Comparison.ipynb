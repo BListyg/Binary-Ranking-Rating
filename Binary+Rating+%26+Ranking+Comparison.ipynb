{
 "cells": [
  {
   "cell_type": "markdown",
   "metadata": {},
   "source": [
    "# Motivation / Background"
   ]
  },
  {
   "cell_type": "markdown",
   "metadata": {},
   "source": [
    "This write-up was inspired by Evan Miller's [excellent article on why average ratings shouldn't be used](http://www.evanmiller.org/how-not-to-sort-by-average-rating.html) when ranking internet comments, ranking items in an online marketplaces, etc. I was curious about the relationship between these \"incorrect\" ranking approaches and the Wilson Lower Bound he suggested. Essentially, I was curious about the rank-order correlation between these different approaches.\n",
    "\n",
    "Below, I simulated random interger thumbs up / thumbs down data and computed four different scores:\n",
    "* Net positive (Positive scores minus negative scores)\n",
    "* Average rating (thumbs up scores divided by total ratings)\n",
    "* Positive per Negative (ratio of positive score to negative scores)\n",
    "* WLB\n",
    "\n",
    "Next, I constructed a Spearman Rank-Order correlation matrix between these 4 values. Given the random data, it appears they are highly correlated with each other and produce essentially the same rank-ordered lists. This simulation leaves out highly skewed ratings of items (either positively or negatively), so that would be a potential future direction to address and would, given Evan's post, demonstrate how the WLB is superior to the other approches."
   ]
  },
  {
   "cell_type": "markdown",
   "metadata": {},
   "source": [
    "# Analysis"
   ]
  },
  {
   "cell_type": "code",
   "execution_count": 25,
   "metadata": {
    "collapsed": true
   },
   "outputs": [],
   "source": [
    "#importing modules\n",
    "import numpy as np\n",
    "import scipy.stats as st\n",
    "import pandas as pd\n",
    "import random\n",
    "import string\n",
    "import matplotlib.pyplot as plt"
   ]
  },
  {
   "cell_type": "code",
   "execution_count": 26,
   "metadata": {
    "collapsed": true
   },
   "outputs": [],
   "source": [
    "#Creating ratings dataframe\n",
    "#ID is random alphanumeric variable\n",
    "#Postive/thumbs-up ratings\n",
    "#Negative/thumbs-down ratings\n",
    "ratings = pd.DataFrame({'id' : map(lambda x: ''.join([random.choice(string.ascii_letters + string.digits) for n in xrange(5)]), range(1000)), \n",
    "    'positive' : map(lambda x: random.randint(a=0,b=1000), range(1000)),\n",
    "    'negative' : map(lambda x: random.randint(a=0,b=1000), range(1000))\n",
    "})\n",
    "\n",
    "#Incorrect solution 1, positive minus negative\n",
    "ratings['score_!'] = ratings['positive'] - ratings['negative']\n",
    "\n",
    "#Incorrect solution 2, positive divided by total\n",
    "ratings['score_2'] = ratings['positive'] / (ratings['positive'] + ratings['negative'])\n",
    "\n",
    "#Incorrect (potentially) solution 3, positive divided by negative\n",
    "ratings['score_3'] = ratings['positive'] / ratings['negative']"
   ]
  },
  {
   "cell_type": "code",
   "execution_count": 27,
   "metadata": {
    "collapsed": true
   },
   "outputs": [],
   "source": [
    "#Defining WLB function\n",
    "def wlb(pos,n,confidence):\n",
    "    if n == 0:\n",
    "        return 0\n",
    "    if n != 0:\n",
    "        z = float(st.norm.ppf(1-((1-confidence)/2)))\n",
    "        phat = float(pos)/float(n)\n",
    "        return (phat + z*z/(2*n) - z * np.sqrt((phat*(1-phat)+z*z/(4*n))/n))/(1+z*z/n)\n"
   ]
  },
  {
   "cell_type": "code",
   "execution_count": 28,
   "metadata": {
    "collapsed": true
   },
   "outputs": [],
   "source": [
    "#Obtaining 95% lower bound on proportion of positive ratings\n",
    "ratings['lower_bound'] = np.vectorize(wlb)(ratings['positive'], ratings['positive']+ratings['negative'], 0.95)"
   ]
  },
  {
   "cell_type": "code",
   "execution_count": 29,
   "metadata": {},
   "outputs": [
    {
     "data": {
      "text/html": [
       "<div>\n",
       "<style>\n",
       "    .dataframe thead tr:only-child th {\n",
       "        text-align: right;\n",
       "    }\n",
       "\n",
       "    .dataframe thead th {\n",
       "        text-align: left;\n",
       "    }\n",
       "\n",
       "    .dataframe tbody tr th {\n",
       "        vertical-align: top;\n",
       "    }\n",
       "</style>\n",
       "<table border=\"1\" class=\"dataframe\">\n",
       "  <thead>\n",
       "    <tr style=\"text-align: right;\">\n",
       "      <th></th>\n",
       "      <th>id</th>\n",
       "      <th>negative</th>\n",
       "      <th>positive</th>\n",
       "      <th>score_!</th>\n",
       "      <th>score_2</th>\n",
       "      <th>score_3</th>\n",
       "      <th>lower_bound</th>\n",
       "    </tr>\n",
       "  </thead>\n",
       "  <tbody>\n",
       "    <tr>\n",
       "      <th>0</th>\n",
       "      <td>2mrw5</td>\n",
       "      <td>596</td>\n",
       "      <td>1000</td>\n",
       "      <td>404</td>\n",
       "      <td>0.626566</td>\n",
       "      <td>1.677852</td>\n",
       "      <td>0.602558</td>\n",
       "    </tr>\n",
       "    <tr>\n",
       "      <th>1</th>\n",
       "      <td>PWHqC</td>\n",
       "      <td>629</td>\n",
       "      <td>982</td>\n",
       "      <td>353</td>\n",
       "      <td>0.609559</td>\n",
       "      <td>1.561208</td>\n",
       "      <td>0.585503</td>\n",
       "    </tr>\n",
       "    <tr>\n",
       "      <th>2</th>\n",
       "      <td>9uGlf</td>\n",
       "      <td>735</td>\n",
       "      <td>628</td>\n",
       "      <td>-107</td>\n",
       "      <td>0.460748</td>\n",
       "      <td>0.854422</td>\n",
       "      <td>0.434433</td>\n",
       "    </tr>\n",
       "    <tr>\n",
       "      <th>3</th>\n",
       "      <td>toG9w</td>\n",
       "      <td>50</td>\n",
       "      <td>704</td>\n",
       "      <td>654</td>\n",
       "      <td>0.933687</td>\n",
       "      <td>14.080000</td>\n",
       "      <td>0.913637</td>\n",
       "    </tr>\n",
       "    <tr>\n",
       "      <th>4</th>\n",
       "      <td>dIwIg</td>\n",
       "      <td>317</td>\n",
       "      <td>807</td>\n",
       "      <td>490</td>\n",
       "      <td>0.717972</td>\n",
       "      <td>2.545741</td>\n",
       "      <td>0.690957</td>\n",
       "    </tr>\n",
       "  </tbody>\n",
       "</table>\n",
       "</div>"
      ],
      "text/plain": [
       "      id  negative  positive  score_!   score_2    score_3  lower_bound\n",
       "0  2mrw5       596      1000      404  0.626566   1.677852     0.602558\n",
       "1  PWHqC       629       982      353  0.609559   1.561208     0.585503\n",
       "2  9uGlf       735       628     -107  0.460748   0.854422     0.434433\n",
       "3  toG9w        50       704      654  0.933687  14.080000     0.913637\n",
       "4  dIwIg       317       807      490  0.717972   2.545741     0.690957"
      ]
     },
     "execution_count": 29,
     "metadata": {},
     "output_type": "execute_result"
    }
   ],
   "source": [
    "#Viewing data\n",
    "ratings.head()"
   ]
  },
  {
   "cell_type": "code",
   "execution_count": 34,
   "metadata": {},
   "outputs": [
    {
     "data": {
      "text/plain": [
       "0.60255775158611891"
      ]
     },
     "execution_count": 34,
     "metadata": {},
     "output_type": "execute_result"
    }
   ],
   "source": [
    "#Confirming values are equal\n",
    "wlb(pos=1000,n=1596,confidence=0.95) #confirming WLB with rating data"
   ]
  },
  {
   "cell_type": "code",
   "execution_count": 31,
   "metadata": {},
   "outputs": [
    {
     "data": {
      "text/html": [
       "<div>\n",
       "<style>\n",
       "    .dataframe thead tr:only-child th {\n",
       "        text-align: right;\n",
       "    }\n",
       "\n",
       "    .dataframe thead th {\n",
       "        text-align: left;\n",
       "    }\n",
       "\n",
       "    .dataframe tbody tr th {\n",
       "        vertical-align: top;\n",
       "    }\n",
       "</style>\n",
       "<table border=\"1\" class=\"dataframe\">\n",
       "  <thead>\n",
       "    <tr style=\"text-align: right;\">\n",
       "      <th></th>\n",
       "      <th>rankings_score_!</th>\n",
       "      <th>rankings_score_2</th>\n",
       "      <th>rankings_score_3</th>\n",
       "      <th>rankings_lower_bound</th>\n",
       "    </tr>\n",
       "  </thead>\n",
       "  <tbody>\n",
       "    <tr>\n",
       "      <th>0</th>\n",
       "      <td>817.0</td>\n",
       "      <td>708.0</td>\n",
       "      <td>708.0</td>\n",
       "      <td>718.0</td>\n",
       "    </tr>\n",
       "    <tr>\n",
       "      <th>1</th>\n",
       "      <td>787.5</td>\n",
       "      <td>686.0</td>\n",
       "      <td>686.0</td>\n",
       "      <td>693.0</td>\n",
       "    </tr>\n",
       "    <tr>\n",
       "      <th>2</th>\n",
       "      <td>429.5</td>\n",
       "      <td>447.0</td>\n",
       "      <td>447.0</td>\n",
       "      <td>451.0</td>\n",
       "    </tr>\n",
       "    <tr>\n",
       "      <th>3</th>\n",
       "      <td>948.0</td>\n",
       "      <td>967.0</td>\n",
       "      <td>967.0</td>\n",
       "      <td>967.0</td>\n",
       "    </tr>\n",
       "    <tr>\n",
       "      <th>4</th>\n",
       "      <td>868.5</td>\n",
       "      <td>801.0</td>\n",
       "      <td>801.0</td>\n",
       "      <td>807.0</td>\n",
       "    </tr>\n",
       "  </tbody>\n",
       "</table>\n",
       "</div>"
      ],
      "text/plain": [
       "   rankings_score_!  rankings_score_2  rankings_score_3  rankings_lower_bound\n",
       "0             817.0             708.0             708.0                 718.0\n",
       "1             787.5             686.0             686.0                 693.0\n",
       "2             429.5             447.0             447.0                 451.0\n",
       "3             948.0             967.0             967.0                 967.0\n",
       "4             868.5             801.0             801.0                 807.0"
      ]
     },
     "execution_count": 31,
     "metadata": {},
     "output_type": "execute_result"
    }
   ],
   "source": [
    "#Changing column names for ranking dataframe to differentiate from rating df\n",
    "rankings = pd.DataFrame.rank(ratings.iloc[:,3:7])\n",
    "\n",
    "rankings.columns = \"rankings_\" + rankings.columns\n",
    "\n",
    "rankings.head()"
   ]
  },
  {
   "cell_type": "markdown",
   "metadata": {},
   "source": [
    "# Final data"
   ]
  },
  {
   "cell_type": "code",
   "execution_count": 32,
   "metadata": {},
   "outputs": [
    {
     "data": {
      "text/html": [
       "<div>\n",
       "<style>\n",
       "    .dataframe thead tr:only-child th {\n",
       "        text-align: right;\n",
       "    }\n",
       "\n",
       "    .dataframe thead th {\n",
       "        text-align: left;\n",
       "    }\n",
       "\n",
       "    .dataframe tbody tr th {\n",
       "        vertical-align: top;\n",
       "    }\n",
       "</style>\n",
       "<table border=\"1\" class=\"dataframe\">\n",
       "  <thead>\n",
       "    <tr style=\"text-align: right;\">\n",
       "      <th></th>\n",
       "      <th>id</th>\n",
       "      <th>negative</th>\n",
       "      <th>positive</th>\n",
       "      <th>score_!</th>\n",
       "      <th>score_2</th>\n",
       "      <th>score_3</th>\n",
       "      <th>lower_bound</th>\n",
       "      <th>rankings_score_!</th>\n",
       "      <th>rankings_score_2</th>\n",
       "      <th>rankings_score_3</th>\n",
       "      <th>rankings_lower_bound</th>\n",
       "    </tr>\n",
       "  </thead>\n",
       "  <tbody>\n",
       "    <tr>\n",
       "      <th>0</th>\n",
       "      <td>2mrw5</td>\n",
       "      <td>596</td>\n",
       "      <td>1000</td>\n",
       "      <td>404</td>\n",
       "      <td>0.626566</td>\n",
       "      <td>1.677852</td>\n",
       "      <td>0.602558</td>\n",
       "      <td>817.0</td>\n",
       "      <td>708.0</td>\n",
       "      <td>708.0</td>\n",
       "      <td>718.0</td>\n",
       "    </tr>\n",
       "    <tr>\n",
       "      <th>1</th>\n",
       "      <td>PWHqC</td>\n",
       "      <td>629</td>\n",
       "      <td>982</td>\n",
       "      <td>353</td>\n",
       "      <td>0.609559</td>\n",
       "      <td>1.561208</td>\n",
       "      <td>0.585503</td>\n",
       "      <td>787.5</td>\n",
       "      <td>686.0</td>\n",
       "      <td>686.0</td>\n",
       "      <td>693.0</td>\n",
       "    </tr>\n",
       "    <tr>\n",
       "      <th>2</th>\n",
       "      <td>9uGlf</td>\n",
       "      <td>735</td>\n",
       "      <td>628</td>\n",
       "      <td>-107</td>\n",
       "      <td>0.460748</td>\n",
       "      <td>0.854422</td>\n",
       "      <td>0.434433</td>\n",
       "      <td>429.5</td>\n",
       "      <td>447.0</td>\n",
       "      <td>447.0</td>\n",
       "      <td>451.0</td>\n",
       "    </tr>\n",
       "    <tr>\n",
       "      <th>3</th>\n",
       "      <td>toG9w</td>\n",
       "      <td>50</td>\n",
       "      <td>704</td>\n",
       "      <td>654</td>\n",
       "      <td>0.933687</td>\n",
       "      <td>14.080000</td>\n",
       "      <td>0.913637</td>\n",
       "      <td>948.0</td>\n",
       "      <td>967.0</td>\n",
       "      <td>967.0</td>\n",
       "      <td>967.0</td>\n",
       "    </tr>\n",
       "    <tr>\n",
       "      <th>4</th>\n",
       "      <td>dIwIg</td>\n",
       "      <td>317</td>\n",
       "      <td>807</td>\n",
       "      <td>490</td>\n",
       "      <td>0.717972</td>\n",
       "      <td>2.545741</td>\n",
       "      <td>0.690957</td>\n",
       "      <td>868.5</td>\n",
       "      <td>801.0</td>\n",
       "      <td>801.0</td>\n",
       "      <td>807.0</td>\n",
       "    </tr>\n",
       "  </tbody>\n",
       "</table>\n",
       "</div>"
      ],
      "text/plain": [
       "      id  negative  positive  score_!   score_2    score_3  lower_bound  \\\n",
       "0  2mrw5       596      1000      404  0.626566   1.677852     0.602558   \n",
       "1  PWHqC       629       982      353  0.609559   1.561208     0.585503   \n",
       "2  9uGlf       735       628     -107  0.460748   0.854422     0.434433   \n",
       "3  toG9w        50       704      654  0.933687  14.080000     0.913637   \n",
       "4  dIwIg       317       807      490  0.717972   2.545741     0.690957   \n",
       "\n",
       "   rankings_score_!  rankings_score_2  rankings_score_3  rankings_lower_bound  \n",
       "0             817.0             708.0             708.0                 718.0  \n",
       "1             787.5             686.0             686.0                 693.0  \n",
       "2             429.5             447.0             447.0                 451.0  \n",
       "3             948.0             967.0             967.0                 967.0  \n",
       "4             868.5             801.0             801.0                 807.0  "
      ]
     },
     "execution_count": 32,
     "metadata": {},
     "output_type": "execute_result"
    }
   ],
   "source": [
    "#Combining ratings and rankings dataframes\n",
    "final_data = pd.concat([ratings.reset_index(drop=True), rankings], axis=1)\n",
    "\n",
    "final_data.head()"
   ]
  },
  {
   "cell_type": "markdown",
   "metadata": {},
   "source": [
    "# Results"
   ]
  },
  {
   "cell_type": "code",
   "execution_count": 33,
   "metadata": {},
   "outputs": [
    {
     "data": {
      "text/html": [
       "<div>\n",
       "<style>\n",
       "    .dataframe thead tr:only-child th {\n",
       "        text-align: right;\n",
       "    }\n",
       "\n",
       "    .dataframe thead th {\n",
       "        text-align: left;\n",
       "    }\n",
       "\n",
       "    .dataframe tbody tr th {\n",
       "        vertical-align: top;\n",
       "    }\n",
       "</style>\n",
       "<table border=\"1\" class=\"dataframe\">\n",
       "  <thead>\n",
       "    <tr style=\"text-align: right;\">\n",
       "      <th></th>\n",
       "      <th>0</th>\n",
       "      <th>1</th>\n",
       "      <th>2</th>\n",
       "      <th>3</th>\n",
       "    </tr>\n",
       "  </thead>\n",
       "  <tbody>\n",
       "    <tr>\n",
       "      <th>0</th>\n",
       "      <td>1.000000</td>\n",
       "      <td>0.955765</td>\n",
       "      <td>0.955765</td>\n",
       "      <td>0.954331</td>\n",
       "    </tr>\n",
       "    <tr>\n",
       "      <th>1</th>\n",
       "      <td>0.955765</td>\n",
       "      <td>1.000000</td>\n",
       "      <td>1.000000</td>\n",
       "      <td>0.999258</td>\n",
       "    </tr>\n",
       "    <tr>\n",
       "      <th>2</th>\n",
       "      <td>0.955765</td>\n",
       "      <td>1.000000</td>\n",
       "      <td>1.000000</td>\n",
       "      <td>0.999258</td>\n",
       "    </tr>\n",
       "    <tr>\n",
       "      <th>3</th>\n",
       "      <td>0.954331</td>\n",
       "      <td>0.999258</td>\n",
       "      <td>0.999258</td>\n",
       "      <td>1.000000</td>\n",
       "    </tr>\n",
       "  </tbody>\n",
       "</table>\n",
       "</div>"
      ],
      "text/plain": [
       "          0         1         2         3\n",
       "0  1.000000  0.955765  0.955765  0.954331\n",
       "1  0.955765  1.000000  1.000000  0.999258\n",
       "2  0.955765  1.000000  1.000000  0.999258\n",
       "3  0.954331  0.999258  0.999258  1.000000"
      ]
     },
     "execution_count": 33,
     "metadata": {},
     "output_type": "execute_result"
    }
   ],
   "source": [
    "#Rank-order correlation matrix between 4 rating approaches\n",
    "pd.DataFrame(st.spearmanr(final_data.iloc[:,7:11])[0])"
   ]
  },
  {
   "cell_type": "markdown",
   "metadata": {},
   "source": [
    "# Conclusions"
   ]
  },
  {
   "cell_type": "markdown",
   "metadata": {},
   "source": [
    "Given the random data I generated, it appears that these 4 approaches yield nearly identical rank-ordered lists (completely identical in the case of score_2 and score_3). One thing to note is that these four ranking approaches may return different rank-orders with items that have highly skewed ratings. Additionally, examining rank-order changes over time (i.e. if any item being ranked undergoes changes in product features) would be interesting to observe as well."
   ]
  }
 ],
 "metadata": {
  "kernelspec": {
   "display_name": "Python 2",
   "language": "python",
   "name": "python2"
  },
  "language_info": {
   "codemirror_mode": {
    "name": "ipython",
    "version": 2
   },
   "file_extension": ".py",
   "mimetype": "text/x-python",
   "name": "python",
   "nbconvert_exporter": "python",
   "pygments_lexer": "ipython2",
   "version": "2.7.14"
  }
 },
 "nbformat": 4,
 "nbformat_minor": 2
}
